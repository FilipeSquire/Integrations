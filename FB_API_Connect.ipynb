{
  "nbformat": 4,
  "nbformat_minor": 0,
  "metadata": {
    "colab": {
      "name": "FB_API_Connect.ipynb",
      "provenance": [],
      "include_colab_link": true
    },
    "kernelspec": {
      "name": "python3",
      "display_name": "Python 3"
    },
    "language_info": {
      "name": "python"
    }
  },
  "cells": [
    {
      "cell_type": "markdown",
      "metadata": {
        "id": "view-in-github",
        "colab_type": "text"
      },
      "source": [
        "<a href=\"https://colab.research.google.com/github/FilipeSquire/Integrations/blob/main/FB_API_Connect.ipynb\" target=\"_parent\"><img src=\"https://colab.research.google.com/assets/colab-badge.svg\" alt=\"Open In Colab\"/></a>"
      ]
    },
    {
      "cell_type": "code",
      "metadata": {
        "id": "Iw0yEP6ibFMv"
      },
      "source": [
        "import requests\n",
        "import json \n",
        "import pandas as pd\n",
        "import numpy as np\n",
        "from pandas.io.json import json_normalize"
      ],
      "execution_count": 1,
      "outputs": []
    },
    {
      "cell_type": "markdown",
      "metadata": {
        "id": "13h9207zqD7Z"
      },
      "source": [
        "# Etapa 1 - Dados Gerais"
      ]
    },
    {
      "cell_type": "markdown",
      "metadata": {
        "id": "tXIs9V2WloZj"
      },
      "source": [
        "# Treatment"
      ]
    },
    {
      "cell_type": "code",
      "metadata": {
        "id": "EgXoKrRKBv2l"
      },
      "source": [
        "#Vamos dar uma olhada em todas as contas que hoje estão ativas\n",
        "events = requests.get(\"INSERT YOUR REQUEST HERE\")\n",
        "trans = json.loads(events.content)\n",
        "contas = pd.json_normalize(trans['adaccounts']['data'])"
      ],
      "execution_count": null,
      "outputs": []
    },
    {
      "cell_type": "code",
      "metadata": {
        "id": "dndvMOraXzfm"
      },
      "source": [
        "#Fazendo requisicao para graphi face api para listar todas as campanhas existentes\n",
        "\n",
        "events = requests.get(\"INSERT YOUR URL HERE\")\n",
        "trans = json.loads(events.content)\n",
        "redes = pd.json_normalize(trans['data'])\n"
      ],
      "execution_count": null,
      "outputs": []
    },
    {
      "cell_type": "markdown",
      "metadata": {
        "id": "z4QYn2dNqVnU"
      },
      "source": [
        "Abaixo vamos fazer o tratamento dos dados das campanhas"
      ]
    },
    {
      "cell_type": "code",
      "metadata": {
        "id": "YVgOH6TrfQAg"
      },
      "source": [
        "#Requisitando as informações via url retirado do graph facebook api\n",
        "events = requests.get(\"INSER YOUR URL HERE\")\n",
        "#A base vai vir com campaigns_id que não possui dados internos. Tratamento dos dados abaixo\n",
        "trans = json.loads(events.content)\n",
        "trans2 = pd.json_normalize(trans['data']) #os dados que queremos é insights.data\n",
        "trans2 = trans2.dropna(subset=['insights.data'],inplace=False).reset_index() #removendo as linhas nulas\n",
        "del trans2['index'] #tratando index\n",
        "\n",
        "#Agora vamos criar um loop para preencher uma tabela com os dados que queremos\n",
        "size = trans2['id'].count()\n",
        "\n",
        "dataset2 = pd.DataFrame(columns=['account_id','campaign_id','date_start','date_stop','impressions','spend'])\n",
        "\n",
        "for x in range(0,size): #o loop vai olhar dentro de cada campanha e armazenar os dados q queremos em uma tabela nova\n",
        "  filtro = pd.json_normalize(trans2['insights.data'][x])\n",
        "  dataset2 = pd.merge(dataset2, filtro, how='outer')\n"
      ],
      "execution_count": null,
      "outputs": []
    },
    {
      "cell_type": "code",
      "metadata": {
        "id": "9JkPZs7ndlNR"
      },
      "source": [
        "#Agora vamos preparar o merge para sabermos os nomes das campanhas que estamos lidando\n",
        "\n",
        "redes = redes.rename(columns={'id':'campaign_id'})\n",
        "#Agora temos um dataset oficial e pronto pra ir pra o excel!\n",
        "dts = pd.merge(dataset2,redes,on='campaign_id')"
      ],
      "execution_count": null,
      "outputs": []
    },
    {
      "cell_type": "markdown",
      "metadata": {
        "id": "yguMzYhZlg5R"
      },
      "source": [
        "# **DEPLOY**"
      ]
    },
    {
      "cell_type": "code",
      "metadata": {
        "id": "yJtiDL-rrByj"
      },
      "source": [
        "#O nosso dataset é dts\n",
        "!pip install --upgrade gspread\n",
        "!pip install --upgrade gspread-pandas\n"
      ],
      "execution_count": null,
      "outputs": []
    },
    {
      "cell_type": "code",
      "metadata": {
        "colab": {
          "base_uri": "https://localhost:8080/"
        },
        "id": "GMkFVT3MmGv1",
        "outputId": "4087c53a-2385-43d2-d878-f78046eee1be"
      },
      "source": [
        "#Estabelecendo conexao com gspread\n",
        "\n",
        "from google.colab import auth\n",
        "auth.authenticate_user()\n",
        "\n",
        "import gspread\n",
        "from oauth2client.client import GoogleCredentials\n",
        "\n",
        "gc = gspread.authorize(GoogleCredentials.get_application_default())\n",
        "#sh = gc.create('INSERT NEW SHEETS NAME')\n",
        "\n",
        "#Openining the new sheet\n",
        "worksheet = gc.open('INSERT SHEETS NAME')\n",
        "\n",
        "plan1 = worksheet.worksheet('Redes Campaigns')\n",
        "plan1.update([dts.columns.values.tolist()] + dts.values.tolist())"
      ],
      "execution_count": null,
      "outputs": [
        {
          "output_type": "execute_result",
          "data": {
            "text/plain": [
              "{'spreadsheetId': '15e96GL-KH-p27H7JjW3cPSPdvMY-qa_OfM9RJZCYPXg',\n",
              " 'updatedCells': 27,\n",
              " 'updatedColumns': 9,\n",
              " 'updatedRange': \"'Branding Campaigns'!A1:I3\",\n",
              " 'updatedRows': 3}"
            ]
          },
          "metadata": {
            "tags": []
          },
          "execution_count": 111
        }
      ]
    },
    {
      "cell_type": "markdown",
      "metadata": {
        "id": "903OamaBqMcA"
      },
      "source": [
        "# Etapa 2 - Visão Diaria da Conta"
      ]
    },
    {
      "cell_type": "code",
      "metadata": {
        "id": "EIrnw1E1qTnK"
      },
      "source": [
        "#Fazendo requisicao para graphi face api para listar todas as campanhas existentes\n",
        "#Ao contrario das extrações anteriores, agora teremos que detalhar o quanto foi gasto diariamente por conta e por campanha\n",
        "\n",
        "#Custos diarios de uma Conta\n",
        "events = requests.get(\"INSERT CODE HERE\")\n",
        "trans = json.loads(events.content)\n",
        "rd_daily = pd.json_normalize(trans['data'])\n",
        "\n"
      ],
      "execution_count": null,
      "outputs": []
    },
    {
      "cell_type": "markdown",
      "metadata": {
        "id": "BVw9lQ5G3dd0"
      },
      "source": [
        "Agora vamos jogar essas informações na nossa planilha"
      ]
    },
    {
      "cell_type": "code",
      "metadata": {
        "colab": {
          "base_uri": "https://localhost:8080/"
        },
        "id": "795SRG6q3bZl",
        "outputId": "8dc4da0e-1a96-46da-cf75-5af9bf486f59"
      },
      "source": [
        "#Estabelecendo conexao com gspread\n",
        "\n",
        "from google.colab import auth\n",
        "auth.authenticate_user()\n",
        "\n",
        "import gspread\n",
        "from oauth2client.client import GoogleCredentials\n",
        "\n",
        "gc = gspread.authorize(GoogleCredentials.get_application_default())\n",
        "#sh = gc.create('INSERT YOUR SHEETS HERE')\n",
        "\n",
        "#Openining the new sheet\n",
        "worksheet = gc.open('INSERT YOUR SHEETS HERE')\n",
        "\n",
        "plan1 = worksheet.worksheet('Daily Account Costs')\n",
        "plan1.update([rd_daily.columns.values.tolist()] + rd_daily.values.tolist())"
      ],
      "execution_count": null,
      "outputs": [
        {
          "output_type": "execute_result",
          "data": {
            "text/plain": [
              "{'spreadsheetId': '15e96GL-KH-p27H7JjW3cPSPdvMY-qa_OfM9RJZCYPXg',\n",
              " 'updatedCells': 170,\n",
              " 'updatedColumns': 5,\n",
              " 'updatedRange': \"'Branding Costs'!A1:E34\",\n",
              " 'updatedRows': 34}"
            ]
          },
          "metadata": {
            "tags": []
          },
          "execution_count": 97
        }
      ]
    },
    {
      "cell_type": "code",
      "metadata": {
        "id": "FidOfL8VqkOU"
      },
      "source": [
        ""
      ],
      "execution_count": null,
      "outputs": []
    },
    {
      "cell_type": "markdown",
      "metadata": {
        "id": "HRupevQT3w7T"
      },
      "source": [
        "# Etapa 3 - Visao Diaria de Campanha"
      ]
    },
    {
      "cell_type": "code",
      "metadata": {
        "id": "w9plhzol33eQ"
      },
      "source": [
        "#Custos diarios das campanhas \n",
        "\n",
        "rd_daily = pd.DataFrame(columns=['spend','impressions','cpm','cpc','date_start','date_stop','campaign_id'])\n",
        "\n",
        "for x in range(0,dts['campaign_id'].count()):\n",
        "  campanha = dts['campaign_id'][x]\n",
        "  events = requests.get(\"https://graph.facebook.com/v10.0/\"+campanha+\"REST OF THE URL HERE\")\n",
        "  trans3 = json.loads(events.content)\n",
        "  filtro = pd.json_normalize(trans3['data'])\n",
        "  rd_daily = pd.merge(rd_daily, filtro, how='outer')\n",
        "  rd_daily['campaign_id'].fillna(dts['campaign_id'][x],inplace=True)\n",
        "\n",
        "rd_daily = pd.merge(rd_daily,redes,on='campaign_id')\n",
        "\n",
        "rd_daily\n"
      ],
      "execution_count": null,
      "outputs": []
    },
    {
      "cell_type": "markdown",
      "metadata": {
        "id": "21LFIayzqnek"
      },
      "source": [
        "Pronto! Agora acabamos de listar todas as contas, os custos diarios das contas e custos diarios das campanhas e armazenamos tudo em um Sheets que criamos! É possivel fazer mais requisições, basta consultar o material do FB Graph API"
      ]
    }
  ]
}