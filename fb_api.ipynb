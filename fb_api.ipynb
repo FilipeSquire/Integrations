{
  "nbformat": 4,
  "nbformat_minor": 0,
  "metadata": {
    "colab": {
      "name": "fb_api.ipynb",
      "provenance": []
    },
    "kernelspec": {
      "name": "python3",
      "display_name": "Python 3"
    },
    "language_info": {
      "name": "python"
    }
  },
  "cells": [
    {
      "cell_type": "code",
      "metadata": {
        "id": "Iw0yEP6ibFMv"
      },
      "source": [
        "import requests\n",
        "import json \n",
        "import pandas as pd\n",
        "import numpy as np\n",
        "from pandas.io.json import json_normalize"
      ],
      "execution_count": 1,
      "outputs": []
    },
    {
      "cell_type": "markdown",
      "metadata": {
        "id": "13h9207zqD7Z"
      },
      "source": [
        "# Etapa 1 - Dados Gerais"
      ]
    },
    {
      "cell_type": "markdown",
      "metadata": {
        "id": "tXIs9V2WloZj"
      },
      "source": [
        "# Treatment"
      ]
    },
    {
      "cell_type": "code",
      "metadata": {
        "id": "EgXoKrRKBv2l"
      },
      "source": [
        "#Vamos dar uma olhada em todas as contas que hoje estão ativas\n",
        "events = requests.get(\"https://graph.facebook.com/v10.0/me?fields=adaccounts%7Bname%7D&access_token=EAAXwBOcBhNIBAOmxrPUCMTcDNbO8ZB8JQj8VUlCDUZBZADiQyR7wBrqizZAgkJcQqhuoZCFs7KdIhxHtJVCVBZACyAxzEzckWnwkIGZBPs27oEe6psbx3DrHxeaKNnlCZBC3aZCelDAEBzM42Ed9Jy1ptvzFhr1Hm3ZBluZCvyL1vXcVQZDZD\")\n",
        "trans = json.loads(events.content)\n",
        "contas = pd.json_normalize(trans['adaccounts']['data'])"
      ],
      "execution_count": 2,
      "outputs": []
    },
    {
      "cell_type": "code",
      "metadata": {
        "id": "dndvMOraXzfm"
      },
      "source": [
        "#Fazendo requisicao para graphi face api para listar todas as campanhas existentes\n",
        "#As campanhas mais utilizadas são de Branding e Redes, então teremos que realizar o tratamento duas vezes para cada uma\n",
        "# Redes : act_625898984510034\n",
        "# Branding: act_744828579330411\n",
        "\n",
        "events = requests.get(\"https://graph.facebook.com/v10.0/act_625898984510034/campaigns?fields=id%2Cname%2Cdaily_budget%2Cbid_strategy&time_increment=1&date_preset=this_year&access_token=EAAXwBOcBhNIBAOmxrPUCMTcDNbO8ZB8JQj8VUlCDUZBZADiQyR7wBrqizZAgkJcQqhuoZCFs7KdIhxHtJVCVBZACyAxzEzckWnwkIGZBPs27oEe6psbx3DrHxeaKNnlCZBC3aZCelDAEBzM42Ed9Jy1ptvzFhr1Hm3ZBluZCvyL1vXcVQZDZD\")\n",
        "trans = json.loads(events.content)\n",
        "redes = pd.json_normalize(trans['data'])\n",
        "\n",
        "events = requests.get(\"https://graph.facebook.com/v10.0/act_744828579330411/campaigns?fields=id%2Cname%2Cdaily_budget%2Cbid_strategy&time_increment=1&date_preset=this_year&access_token=EAAXwBOcBhNIBAOmxrPUCMTcDNbO8ZB8JQj8VUlCDUZBZADiQyR7wBrqizZAgkJcQqhuoZCFs7KdIhxHtJVCVBZACyAxzEzckWnwkIGZBPs27oEe6psbx3DrHxeaKNnlCZBC3aZCelDAEBzM42Ed9Jy1ptvzFhr1Hm3ZBluZCvyL1vXcVQZDZD\")\n",
        "trans = json.loads(events.content)\n",
        "branding = pd.json_normalize(trans['data'])"
      ],
      "execution_count": 3,
      "outputs": []
    },
    {
      "cell_type": "markdown",
      "metadata": {
        "id": "z4QYn2dNqVnU"
      },
      "source": [
        "Abaixo vamos fazer o tratamento dos dados das campanhas de Redes"
      ]
    },
    {
      "cell_type": "code",
      "metadata": {
        "id": "YVgOH6TrfQAg"
      },
      "source": [
        "#Requisitando as informações via url retirado do graph facebook api\n",
        "events = requests.get(\"https://graph.facebook.com/v10.0/act_625898984510034/campaigns?fields=insights&time_increment=1&date_preset=this_year&access_token=EAAXwBOcBhNIBAOmxrPUCMTcDNbO8ZB8JQj8VUlCDUZBZADiQyR7wBrqizZAgkJcQqhuoZCFs7KdIhxHtJVCVBZACyAxzEzckWnwkIGZBPs27oEe6psbx3DrHxeaKNnlCZBC3aZCelDAEBzM42Ed9Jy1ptvzFhr1Hm3ZBluZCvyL1vXcVQZDZD\")\n",
        "#A base vai vir com campaigns_id que não possui dados internos. Tratamento dos dados abaixo\n",
        "trans = json.loads(events.content)\n",
        "trans2 = pd.json_normalize(trans['data']) #os dados que queremos é insights.data\n",
        "trans2 = trans2.dropna(subset=['insights.data'],inplace=False).reset_index() #removendo as linhas nulas\n",
        "del trans2['index'] #tratando index\n",
        "\n",
        "#Agora vamos criar um loop para preencher uma tabela com os dados que queremos\n",
        "size = trans2['id'].count()\n",
        "\n",
        "dataset2 = pd.DataFrame(columns=['account_id','campaign_id','date_start','date_stop','impressions','spend'])\n",
        "\n",
        "for x in range(0,size): #o loop vai olhar dentro de cada campanha e armazenar os dados q queremos em uma tabela nova\n",
        "  filtro = pd.json_normalize(trans2['insights.data'][x])\n",
        "  dataset2 = pd.merge(dataset2, filtro, how='outer')\n"
      ],
      "execution_count": 4,
      "outputs": []
    },
    {
      "cell_type": "code",
      "metadata": {
        "id": "9JkPZs7ndlNR"
      },
      "source": [
        "#Agora vamos preparar o merge para sabermos os nomes das campanhas que estamos lidando\n",
        "\n",
        "redes = redes.rename(columns={'id':'campaign_id'})\n",
        "#Agora temos um dataset oficial e pronto pra ir pra o excel!\n",
        "dts = pd.merge(dataset2,redes,on='campaign_id')"
      ],
      "execution_count": 5,
      "outputs": []
    },
    {
      "cell_type": "markdown",
      "metadata": {
        "id": "zgD5MNgXqdaL"
      },
      "source": [
        "Agora vamos fazer tudo novamente para as campanhas de Branding"
      ]
    },
    {
      "cell_type": "code",
      "metadata": {
        "id": "CqANCoUSqgyL"
      },
      "source": [
        "#Requisitando as informações via url retirado do graph facebook api\n",
        "events = requests.get(\"https://graph.facebook.com/v10.0/act_744828579330411/campaigns?fields=insights&time_increment=1&date_preset=this_year&access_token=EAAXwBOcBhNIBAOmxrPUCMTcDNbO8ZB8JQj8VUlCDUZBZADiQyR7wBrqizZAgkJcQqhuoZCFs7KdIhxHtJVCVBZACyAxzEzckWnwkIGZBPs27oEe6psbx3DrHxeaKNnlCZBC3aZCelDAEBzM42Ed9Jy1ptvzFhr1Hm3ZBluZCvyL1vXcVQZDZD\")\n",
        "#A base vai vir com campaigns_id que não possui dados internos. Tratamento dos dados abaixo\n",
        "treat = json.loads(events.content)\n",
        "treat2 = pd.json_normalize(treat['data']) #os dados que queremos é insights.data\n",
        "treat2 = treat2.dropna(subset=['insights.data'],inplace=False).reset_index() #removendo as linhas nulas\n",
        "del treat2['index'] #tratando index\n",
        "\n",
        "#Agora vamos criar um loop para preencher uma tabela com os dados que queremos\n",
        "size = treat2['id'].count()\n",
        "\n",
        "dataset3 = pd.DataFrame(columns=['account_id','campaign_id','date_start','date_stop','impressions','spend'])\n",
        "\n",
        "for x in range(0,size): #o loop vai olhar dentro de cada campanha e armazenar os dados q queremos em uma tabela nova\n",
        "  filtro2 = pd.json_normalize(treat2['insights.data'][x])\n",
        "  dataset3 = pd.merge(dataset3, filtro2, how='outer')"
      ],
      "execution_count": 6,
      "outputs": []
    },
    {
      "cell_type": "markdown",
      "metadata": {
        "id": "yguMzYhZlg5R"
      },
      "source": [
        "# **DEPLOY**"
      ]
    },
    {
      "cell_type": "code",
      "metadata": {
        "colab": {
          "base_uri": "https://localhost:8080/"
        },
        "id": "yJtiDL-rrByj",
        "outputId": "719d0f7c-aa99-459b-bcb4-cd78cc867d06"
      },
      "source": [
        "#O nosso dataset é dts\n",
        "!pip install --upgrade gspread\n",
        "!pip install --upgrade gspread-pandas\n"
      ],
      "execution_count": null,
      "outputs": [
        {
          "output_type": "stream",
          "text": [
            "Requirement already up-to-date: gspread in /usr/local/lib/python3.7/dist-packages (3.7.0)\n",
            "Requirement already satisfied, skipping upgrade: google-auth>=1.12.0 in /usr/local/lib/python3.7/dist-packages (from gspread) (1.28.1)\n",
            "Requirement already satisfied, skipping upgrade: google-auth-oauthlib>=0.4.1 in /usr/local/lib/python3.7/dist-packages (from gspread) (0.4.4)\n",
            "Requirement already satisfied, skipping upgrade: six>=1.9.0 in /usr/local/lib/python3.7/dist-packages (from google-auth>=1.12.0->gspread) (1.15.0)\n",
            "Requirement already satisfied, skipping upgrade: rsa<5,>=3.1.4; python_version >= \"3.6\" in /usr/local/lib/python3.7/dist-packages (from google-auth>=1.12.0->gspread) (4.7.2)\n",
            "Requirement already satisfied, skipping upgrade: pyasn1-modules>=0.2.1 in /usr/local/lib/python3.7/dist-packages (from google-auth>=1.12.0->gspread) (0.2.8)\n",
            "Requirement already satisfied, skipping upgrade: setuptools>=40.3.0 in /usr/local/lib/python3.7/dist-packages (from google-auth>=1.12.0->gspread) (56.1.0)\n",
            "Requirement already satisfied, skipping upgrade: cachetools<5.0,>=2.0.0 in /usr/local/lib/python3.7/dist-packages (from google-auth>=1.12.0->gspread) (4.2.1)\n",
            "Requirement already satisfied, skipping upgrade: requests-oauthlib>=0.7.0 in /usr/local/lib/python3.7/dist-packages (from google-auth-oauthlib>=0.4.1->gspread) (1.3.0)\n",
            "Requirement already satisfied, skipping upgrade: pyasn1>=0.1.3 in /usr/local/lib/python3.7/dist-packages (from rsa<5,>=3.1.4; python_version >= \"3.6\"->google-auth>=1.12.0->gspread) (0.4.8)\n",
            "Requirement already satisfied, skipping upgrade: oauthlib>=3.0.0 in /usr/local/lib/python3.7/dist-packages (from requests-oauthlib>=0.7.0->google-auth-oauthlib>=0.4.1->gspread) (3.1.0)\n",
            "Requirement already satisfied, skipping upgrade: requests>=2.0.0 in /usr/local/lib/python3.7/dist-packages (from requests-oauthlib>=0.7.0->google-auth-oauthlib>=0.4.1->gspread) (2.23.0)\n",
            "Requirement already satisfied, skipping upgrade: idna<3,>=2.5 in /usr/local/lib/python3.7/dist-packages (from requests>=2.0.0->requests-oauthlib>=0.7.0->google-auth-oauthlib>=0.4.1->gspread) (2.10)\n",
            "Requirement already satisfied, skipping upgrade: certifi>=2017.4.17 in /usr/local/lib/python3.7/dist-packages (from requests>=2.0.0->requests-oauthlib>=0.7.0->google-auth-oauthlib>=0.4.1->gspread) (2020.12.5)\n",
            "Requirement already satisfied, skipping upgrade: urllib3!=1.25.0,!=1.25.1,<1.26,>=1.21.1 in /usr/local/lib/python3.7/dist-packages (from requests>=2.0.0->requests-oauthlib>=0.7.0->google-auth-oauthlib>=0.4.1->gspread) (1.24.3)\n",
            "Requirement already satisfied, skipping upgrade: chardet<4,>=3.0.2 in /usr/local/lib/python3.7/dist-packages (from requests>=2.0.0->requests-oauthlib>=0.7.0->google-auth-oauthlib>=0.4.1->gspread) (3.0.4)\n",
            "Requirement already up-to-date: gspread-pandas in /usr/local/lib/python3.7/dist-packages (2.3.0)\n",
            "Requirement already satisfied, skipping upgrade: gspread>=3.0.0 in /usr/local/lib/python3.7/dist-packages (from gspread-pandas) (3.7.0)\n",
            "Requirement already satisfied, skipping upgrade: google-auth in /usr/local/lib/python3.7/dist-packages (from gspread-pandas) (1.28.1)\n",
            "Requirement already satisfied, skipping upgrade: google-auth-oauthlib in /usr/local/lib/python3.7/dist-packages (from gspread-pandas) (0.4.4)\n",
            "Requirement already satisfied, skipping upgrade: pandas>=0.20.0 in /usr/local/lib/python3.7/dist-packages (from gspread-pandas) (1.1.5)\n",
            "Requirement already satisfied, skipping upgrade: six in /usr/local/lib/python3.7/dist-packages (from gspread-pandas) (1.15.0)\n",
            "Requirement already satisfied, skipping upgrade: decorator in /usr/local/lib/python3.7/dist-packages (from gspread-pandas) (4.4.2)\n",
            "Requirement already satisfied, skipping upgrade: pyasn1-modules>=0.2.1 in /usr/local/lib/python3.7/dist-packages (from google-auth->gspread-pandas) (0.2.8)\n",
            "Requirement already satisfied, skipping upgrade: rsa<5,>=3.1.4; python_version >= \"3.6\" in /usr/local/lib/python3.7/dist-packages (from google-auth->gspread-pandas) (4.7.2)\n",
            "Requirement already satisfied, skipping upgrade: cachetools<5.0,>=2.0.0 in /usr/local/lib/python3.7/dist-packages (from google-auth->gspread-pandas) (4.2.1)\n",
            "Requirement already satisfied, skipping upgrade: setuptools>=40.3.0 in /usr/local/lib/python3.7/dist-packages (from google-auth->gspread-pandas) (56.1.0)\n",
            "Requirement already satisfied, skipping upgrade: requests-oauthlib>=0.7.0 in /usr/local/lib/python3.7/dist-packages (from google-auth-oauthlib->gspread-pandas) (1.3.0)\n",
            "Requirement already satisfied, skipping upgrade: pytz>=2017.2 in /usr/local/lib/python3.7/dist-packages (from pandas>=0.20.0->gspread-pandas) (2018.9)\n",
            "Requirement already satisfied, skipping upgrade: python-dateutil>=2.7.3 in /usr/local/lib/python3.7/dist-packages (from pandas>=0.20.0->gspread-pandas) (2.8.1)\n",
            "Requirement already satisfied, skipping upgrade: numpy>=1.15.4 in /usr/local/lib/python3.7/dist-packages (from pandas>=0.20.0->gspread-pandas) (1.19.5)\n",
            "Requirement already satisfied, skipping upgrade: pyasn1<0.5.0,>=0.4.6 in /usr/local/lib/python3.7/dist-packages (from pyasn1-modules>=0.2.1->google-auth->gspread-pandas) (0.4.8)\n",
            "Requirement already satisfied, skipping upgrade: oauthlib>=3.0.0 in /usr/local/lib/python3.7/dist-packages (from requests-oauthlib>=0.7.0->google-auth-oauthlib->gspread-pandas) (3.1.0)\n",
            "Requirement already satisfied, skipping upgrade: requests>=2.0.0 in /usr/local/lib/python3.7/dist-packages (from requests-oauthlib>=0.7.0->google-auth-oauthlib->gspread-pandas) (2.23.0)\n",
            "Requirement already satisfied, skipping upgrade: chardet<4,>=3.0.2 in /usr/local/lib/python3.7/dist-packages (from requests>=2.0.0->requests-oauthlib>=0.7.0->google-auth-oauthlib->gspread-pandas) (3.0.4)\n",
            "Requirement already satisfied, skipping upgrade: idna<3,>=2.5 in /usr/local/lib/python3.7/dist-packages (from requests>=2.0.0->requests-oauthlib>=0.7.0->google-auth-oauthlib->gspread-pandas) (2.10)\n",
            "Requirement already satisfied, skipping upgrade: certifi>=2017.4.17 in /usr/local/lib/python3.7/dist-packages (from requests>=2.0.0->requests-oauthlib>=0.7.0->google-auth-oauthlib->gspread-pandas) (2020.12.5)\n",
            "Requirement already satisfied, skipping upgrade: urllib3!=1.25.0,!=1.25.1,<1.26,>=1.21.1 in /usr/local/lib/python3.7/dist-packages (from requests>=2.0.0->requests-oauthlib>=0.7.0->google-auth-oauthlib->gspread-pandas) (1.24.3)\n"
          ],
          "name": "stdout"
        }
      ]
    },
    {
      "cell_type": "code",
      "metadata": {
        "colab": {
          "base_uri": "https://localhost:8080/"
        },
        "id": "GMkFVT3MmGv1",
        "outputId": "4087c53a-2385-43d2-d878-f78046eee1be"
      },
      "source": [
        "#Estabelecendo conexao com gspread\n",
        "\n",
        "from google.colab import auth\n",
        "auth.authenticate_user()\n",
        "\n",
        "import gspread\n",
        "from oauth2client.client import GoogleCredentials\n",
        "\n",
        "gc = gspread.authorize(GoogleCredentials.get_application_default())\n",
        "#sh = gc.create('FB Resume Campaign')\n",
        "\n",
        "#Openining the new sheet\n",
        "worksheet = gc.open('FB Resume Campaign')\n",
        "\n",
        "plan1 = worksheet.worksheet('Redes Campaigns')\n",
        "plan1.update([dts.columns.values.tolist()] + dts.values.tolist())\n",
        "\n",
        "plan2 = worksheet.worksheet('Branding Campaigns')\n",
        "plan2.update([dts2.columns.values.tolist()] + dts2.values.tolist())"
      ],
      "execution_count": null,
      "outputs": [
        {
          "output_type": "execute_result",
          "data": {
            "text/plain": [
              "{'spreadsheetId': '15e96GL-KH-p27H7JjW3cPSPdvMY-qa_OfM9RJZCYPXg',\n",
              " 'updatedCells': 27,\n",
              " 'updatedColumns': 9,\n",
              " 'updatedRange': \"'Branding Campaigns'!A1:I3\",\n",
              " 'updatedRows': 3}"
            ]
          },
          "metadata": {
            "tags": []
          },
          "execution_count": 111
        }
      ]
    },
    {
      "cell_type": "markdown",
      "metadata": {
        "id": "903OamaBqMcA"
      },
      "source": [
        "# Etapa 2 - Visão Diaria da Conta"
      ]
    },
    {
      "cell_type": "code",
      "metadata": {
        "id": "EIrnw1E1qTnK"
      },
      "source": [
        "#Fazendo requisicao para graphi face api para listar todas as campanhas existentes\n",
        "#As campanhas mais utilizadas são de Branding e Redes, então teremos que realizar o tratamento duas vezes para cada uma\n",
        "#Ao contrario das extrações anteriores, agora teremos que detalhar o quanto foi gasto diariamente por conta e por campanha\n",
        "# Redes : act_625898984510034\n",
        "# Branding: act_744828579330411\n",
        "\n",
        "# \"https://graph.facebook.com/v10.0/act_625898984510034/insights?date_preset=this_year&fields=spend%2Cimpressions%2Ccpm%2Ccpc&time_increment=1&limit=5000&access_token=EAAXwBOcBhNIBALI8Q3IZBZB7srwbcA112K0CMnJDN71OcVq1Ddprj4tXiilcPeyl4emZCUTNu7YipUM9nfPlCOlAgfUh3otczOh9Jtl3caZACTezmu09Dqpg0zDphekXvJRYzB24iClfem1owKrx0Fv9EYCK5qDtzxiCyyZBsk6hEmC5FMsnMHqTwS36n17BiEodZBtGLvn8bdQmGsIrMgra7k8s5Bs5qE05bvYY19j7fMg1F3CYSH\"\n",
        "\n",
        "#Custos diarios da Conta Redes\n",
        "events = requests.get(\"https://graph.facebook.com/v10.0/act_625898984510034/insights?date_preset=this_year&time_increment=1&limit=5000&access_token=EAAXwBOcBhNIBAOmxrPUCMTcDNbO8ZB8JQj8VUlCDUZBZADiQyR7wBrqizZAgkJcQqhuoZCFs7KdIhxHtJVCVBZACyAxzEzckWnwkIGZBPs27oEe6psbx3DrHxeaKNnlCZBC3aZCelDAEBzM42Ed9Jy1ptvzFhr1Hm3ZBluZCvyL1vXcVQZDZD\")\n",
        "trans = json.loads(events.content)\n",
        "rd_daily = pd.json_normalize(trans['data'])\n",
        "\n",
        "#Custos diarios da Conta Branding\n",
        "events = requests.get(\"https://graph.facebook.com/v10.0/act_744828579330411/insights?date_preset=this_year&time_increment=1&limit=5000&access_token=EAAXwBOcBhNIBAOmxrPUCMTcDNbO8ZB8JQj8VUlCDUZBZADiQyR7wBrqizZAgkJcQqhuoZCFs7KdIhxHtJVCVBZACyAxzEzckWnwkIGZBPs27oEe6psbx3DrHxeaKNnlCZBC3aZCelDAEBzM42Ed9Jy1ptvzFhr1Hm3ZBluZCvyL1vXcVQZDZD\")\n",
        "trans = json.loads(events.content)\n",
        "bd_daily = pd.json_normalize(trans['data'])\n"
      ],
      "execution_count": null,
      "outputs": []
    },
    {
      "cell_type": "markdown",
      "metadata": {
        "id": "BVw9lQ5G3dd0"
      },
      "source": [
        "Agora vamos jogar essas informações na nossa planilha"
      ]
    },
    {
      "cell_type": "code",
      "metadata": {
        "colab": {
          "base_uri": "https://localhost:8080/"
        },
        "id": "795SRG6q3bZl",
        "outputId": "8dc4da0e-1a96-46da-cf75-5af9bf486f59"
      },
      "source": [
        "#Estabelecendo conexao com gspread\n",
        "\n",
        "from google.colab import auth\n",
        "auth.authenticate_user()\n",
        "\n",
        "import gspread\n",
        "from oauth2client.client import GoogleCredentials\n",
        "\n",
        "gc = gspread.authorize(GoogleCredentials.get_application_default())\n",
        "#sh = gc.create('FB Resume Campaign')\n",
        "\n",
        "#Openining the new sheet\n",
        "worksheet = gc.open('FB Resume Campaign')\n",
        "\n",
        "plan1 = worksheet.worksheet('Redes Costs')\n",
        "plan1.update([rd_daily.columns.values.tolist()] + rd_daily.values.tolist())\n",
        "\n",
        "plan2 = worksheet.worksheet('Branding Costs')\n",
        "plan2.update([bd_daily.columns.values.tolist()] + bd_daily.values.tolist())"
      ],
      "execution_count": null,
      "outputs": [
        {
          "output_type": "execute_result",
          "data": {
            "text/plain": [
              "{'spreadsheetId': '15e96GL-KH-p27H7JjW3cPSPdvMY-qa_OfM9RJZCYPXg',\n",
              " 'updatedCells': 170,\n",
              " 'updatedColumns': 5,\n",
              " 'updatedRange': \"'Branding Costs'!A1:E34\",\n",
              " 'updatedRows': 34}"
            ]
          },
          "metadata": {
            "tags": []
          },
          "execution_count": 97
        }
      ]
    },
    {
      "cell_type": "code",
      "metadata": {
        "id": "FidOfL8VqkOU"
      },
      "source": [
        ""
      ],
      "execution_count": null,
      "outputs": []
    },
    {
      "cell_type": "markdown",
      "metadata": {
        "id": "HRupevQT3w7T"
      },
      "source": [
        "# Etapa 3 - Visao Diaria de Campanha"
      ]
    },
    {
      "cell_type": "code",
      "metadata": {
        "colab": {
          "base_uri": "https://localhost:8080/",
          "height": 589
        },
        "id": "w9plhzol33eQ",
        "outputId": "3b41389b-e7ad-4f4a-ee29-74d8be098462"
      },
      "source": [
        "# Redes : act_625898984510034\n",
        "# Branding: act_744828579330411\n",
        "\n",
        "# \"https://graph.facebook.com/v10.0/23847693270780577/insights?date_preset=this_year&time_increment=1&fields=spend%2Cimpressions%2Ccpm%2Ccpc&access_token=EAAXwBOcBhNIBALI8Q3IZBZB7srwbcA112K0CMnJDN71OcVq1Ddprj4tXiilcPeyl4emZCUTNu7YipUM9nfPlCOlAgfUh3otczOh9Jtl3caZACTezmu09Dqpg0zDphekXvJRYzB24iClfem1owKrx0Fv9EYCK5qDtzxiCyyZBsk6hEmC5FMsnMHqTwS36n17BiEodZBtGLvn8bdQmGsIrMgra7k8s5Bs5qE05bvYY19j7fMg1F3CYSH\"\n",
        "#Custos diarios das campanhas Rede\n",
        "\n",
        "rd_daily = pd.DataFrame(columns=['spend','impressions','cpm','cpc','date_start','date_stop','campaign_id'])\n",
        "\n",
        "for x in range(0,dts['campaign_id'].count()):\n",
        "  campanha = dts['campaign_id'][x]\n",
        "  events = requests.get(\"https://graph.facebook.com/v10.0/\"+campanha+\"/insights?time_increment=1&fields=spend%2Cimpressions%2Ccpm%2Ccpc&access_token=EAAXwBOcBhNIBAOmxrPUCMTcDNbO8ZB8JQj8VUlCDUZBZADiQyR7wBrqizZAgkJcQqhuoZCFs7KdIhxHtJVCVBZACyAxzEzckWnwkIGZBPs27oEe6psbx3DrHxeaKNnlCZBC3aZCelDAEBzM42Ed9Jy1ptvzFhr1Hm3ZBluZCvyL1vXcVQZDZD\")\n",
        "  trans3 = json.loads(events.content)\n",
        "  filtro = pd.json_normalize(trans3['data'])\n",
        "  rd_daily = pd.merge(rd_daily, filtro, how='outer')\n",
        "  rd_daily['campaign_id'].fillna(dts['campaign_id'][x],inplace=True)\n",
        "\n",
        "rd_daily = pd.merge(rd_daily,redes,on='campaign_id')\n",
        "\n",
        "rd_daily\n"
      ],
      "execution_count": 57,
      "outputs": [
        {
          "output_type": "execute_result",
          "data": {
            "text/html": [
              "<div>\n",
              "<style scoped>\n",
              "    .dataframe tbody tr th:only-of-type {\n",
              "        vertical-align: middle;\n",
              "    }\n",
              "\n",
              "    .dataframe tbody tr th {\n",
              "        vertical-align: top;\n",
              "    }\n",
              "\n",
              "    .dataframe thead th {\n",
              "        text-align: right;\n",
              "    }\n",
              "</style>\n",
              "<table border=\"1\" class=\"dataframe\">\n",
              "  <thead>\n",
              "    <tr style=\"text-align: right;\">\n",
              "      <th></th>\n",
              "      <th>campaign_id</th>\n",
              "      <th>spend</th>\n",
              "      <th>impressions</th>\n",
              "      <th>cpm</th>\n",
              "      <th>cpc</th>\n",
              "      <th>date_start</th>\n",
              "      <th>date_stop</th>\n",
              "      <th>name</th>\n",
              "      <th>daily_budget</th>\n",
              "      <th>bid_strategy</th>\n",
              "    </tr>\n",
              "  </thead>\n",
              "  <tbody>\n",
              "    <tr>\n",
              "      <th>0</th>\n",
              "      <td>23847693270780577</td>\n",
              "      <td>216.61</td>\n",
              "      <td>21842</td>\n",
              "      <td>9.917132</td>\n",
              "      <td>3.800175</td>\n",
              "      <td>2021-05-05</td>\n",
              "      <td>2021-05-05</td>\n",
              "      <td>D2 - Retenção - In-App Event - Android e iOS -...</td>\n",
              "      <td>50000</td>\n",
              "      <td>LOWEST_COST_WITHOUT_CAP</td>\n",
              "    </tr>\n",
              "    <tr>\n",
              "      <th>1</th>\n",
              "      <td>23847693270780577</td>\n",
              "      <td>503.17</td>\n",
              "      <td>54981</td>\n",
              "      <td>9.151707</td>\n",
              "      <td>2.85892</td>\n",
              "      <td>2021-05-06</td>\n",
              "      <td>2021-05-06</td>\n",
              "      <td>D2 - Retenção - In-App Event - Android e iOS -...</td>\n",
              "      <td>50000</td>\n",
              "      <td>LOWEST_COST_WITHOUT_CAP</td>\n",
              "    </tr>\n",
              "    <tr>\n",
              "      <th>2</th>\n",
              "      <td>23847693270780577</td>\n",
              "      <td>536.73</td>\n",
              "      <td>64837</td>\n",
              "      <td>8.278144</td>\n",
              "      <td>2.824895</td>\n",
              "      <td>2021-05-07</td>\n",
              "      <td>2021-05-07</td>\n",
              "      <td>D2 - Retenção - In-App Event - Android e iOS -...</td>\n",
              "      <td>50000</td>\n",
              "      <td>LOWEST_COST_WITHOUT_CAP</td>\n",
              "    </tr>\n",
              "    <tr>\n",
              "      <th>3</th>\n",
              "      <td>23847693270780577</td>\n",
              "      <td>548.51</td>\n",
              "      <td>66966</td>\n",
              "      <td>8.190873</td>\n",
              "      <td>2.516101</td>\n",
              "      <td>2021-05-08</td>\n",
              "      <td>2021-05-08</td>\n",
              "      <td>D2 - Retenção - In-App Event - Android e iOS -...</td>\n",
              "      <td>50000</td>\n",
              "      <td>LOWEST_COST_WITHOUT_CAP</td>\n",
              "    </tr>\n",
              "    <tr>\n",
              "      <th>4</th>\n",
              "      <td>23847693270780577</td>\n",
              "      <td>543.67</td>\n",
              "      <td>75924</td>\n",
              "      <td>7.160713</td>\n",
              "      <td>2.255892</td>\n",
              "      <td>2021-05-09</td>\n",
              "      <td>2021-05-09</td>\n",
              "      <td>D2 - Retenção - In-App Event - Android e iOS -...</td>\n",
              "      <td>50000</td>\n",
              "      <td>LOWEST_COST_WITHOUT_CAP</td>\n",
              "    </tr>\n",
              "    <tr>\n",
              "      <th>...</th>\n",
              "      <td>...</td>\n",
              "      <td>...</td>\n",
              "      <td>...</td>\n",
              "      <td>...</td>\n",
              "      <td>...</td>\n",
              "      <td>...</td>\n",
              "      <td>...</td>\n",
              "      <td>...</td>\n",
              "      <td>...</td>\n",
              "      <td>...</td>\n",
              "    </tr>\n",
              "    <tr>\n",
              "      <th>134</th>\n",
              "      <td>23846950348250577</td>\n",
              "      <td>747.05</td>\n",
              "      <td>244117</td>\n",
              "      <td>3.060213</td>\n",
              "      <td>0.610834</td>\n",
              "      <td>2021-05-03</td>\n",
              "      <td>2021-05-03</td>\n",
              "      <td>B - Aquisição - In-App Event - Android - App C...</td>\n",
              "      <td>19700</td>\n",
              "      <td>LOWEST_COST_WITHOUT_CAP</td>\n",
              "    </tr>\n",
              "    <tr>\n",
              "      <th>135</th>\n",
              "      <td>23846950348250577</td>\n",
              "      <td>772.22</td>\n",
              "      <td>176082</td>\n",
              "      <td>4.38557</td>\n",
              "      <td>0.706514</td>\n",
              "      <td>2021-05-04</td>\n",
              "      <td>2021-05-04</td>\n",
              "      <td>B - Aquisição - In-App Event - Android - App C...</td>\n",
              "      <td>19700</td>\n",
              "      <td>LOWEST_COST_WITHOUT_CAP</td>\n",
              "    </tr>\n",
              "    <tr>\n",
              "      <th>136</th>\n",
              "      <td>23846950348250577</td>\n",
              "      <td>570.11</td>\n",
              "      <td>135725</td>\n",
              "      <td>4.200479</td>\n",
              "      <td>0.774606</td>\n",
              "      <td>2021-05-05</td>\n",
              "      <td>2021-05-05</td>\n",
              "      <td>B - Aquisição - In-App Event - Android - App C...</td>\n",
              "      <td>19700</td>\n",
              "      <td>LOWEST_COST_WITHOUT_CAP</td>\n",
              "    </tr>\n",
              "    <tr>\n",
              "      <th>137</th>\n",
              "      <td>23846950348250577</td>\n",
              "      <td>403.56</td>\n",
              "      <td>79463</td>\n",
              "      <td>5.07859</td>\n",
              "      <td>0.80712</td>\n",
              "      <td>2021-05-06</td>\n",
              "      <td>2021-05-06</td>\n",
              "      <td>B - Aquisição - In-App Event - Android - App C...</td>\n",
              "      <td>19700</td>\n",
              "      <td>LOWEST_COST_WITHOUT_CAP</td>\n",
              "    </tr>\n",
              "    <tr>\n",
              "      <th>138</th>\n",
              "      <td>23846950348250577</td>\n",
              "      <td>284.35</td>\n",
              "      <td>61208</td>\n",
              "      <td>4.645635</td>\n",
              "      <td>0.686836</td>\n",
              "      <td>2021-05-07</td>\n",
              "      <td>2021-05-07</td>\n",
              "      <td>B - Aquisição - In-App Event - Android - App C...</td>\n",
              "      <td>19700</td>\n",
              "      <td>LOWEST_COST_WITHOUT_CAP</td>\n",
              "    </tr>\n",
              "  </tbody>\n",
              "</table>\n",
              "<p>139 rows × 10 columns</p>\n",
              "</div>"
            ],
            "text/plain": [
              "           campaign_id   spend  ... daily_budget             bid_strategy\n",
              "0    23847693270780577  216.61  ...        50000  LOWEST_COST_WITHOUT_CAP\n",
              "1    23847693270780577  503.17  ...        50000  LOWEST_COST_WITHOUT_CAP\n",
              "2    23847693270780577  536.73  ...        50000  LOWEST_COST_WITHOUT_CAP\n",
              "3    23847693270780577  548.51  ...        50000  LOWEST_COST_WITHOUT_CAP\n",
              "4    23847693270780577  543.67  ...        50000  LOWEST_COST_WITHOUT_CAP\n",
              "..                 ...     ...  ...          ...                      ...\n",
              "134  23846950348250577  747.05  ...        19700  LOWEST_COST_WITHOUT_CAP\n",
              "135  23846950348250577  772.22  ...        19700  LOWEST_COST_WITHOUT_CAP\n",
              "136  23846950348250577  570.11  ...        19700  LOWEST_COST_WITHOUT_CAP\n",
              "137  23846950348250577  403.56  ...        19700  LOWEST_COST_WITHOUT_CAP\n",
              "138  23846950348250577  284.35  ...        19700  LOWEST_COST_WITHOUT_CAP\n",
              "\n",
              "[139 rows x 10 columns]"
            ]
          },
          "metadata": {
            "tags": []
          },
          "execution_count": 57
        }
      ]
    },
    {
      "cell_type": "markdown",
      "metadata": {
        "id": "XkoveThO4hYs"
      },
      "source": [
        ""
      ]
    }
  ]
}